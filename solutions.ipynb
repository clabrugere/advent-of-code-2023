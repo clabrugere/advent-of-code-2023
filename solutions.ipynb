{
 "cells": [
  {
   "cell_type": "markdown",
   "metadata": {},
   "source": [
    "# Day 1\n"
   ]
  },
  {
   "cell_type": "markdown",
   "metadata": {},
   "source": [
    "## part 1\n"
   ]
  },
  {
   "cell_type": "code",
   "execution_count": 126,
   "metadata": {},
   "outputs": [
    {
     "data": {
      "text/plain": [
       "54927"
      ]
     },
     "execution_count": 126,
     "metadata": {},
     "output_type": "execute_result"
    }
   ],
   "source": [
    "import re\n",
    "\n",
    "\n",
    "pattern = re.compile(r\"\\d\")\n",
    "calibration_sum = 0\n",
    "\n",
    "with open(\"inputs/01.txt\") as f:\n",
    "    for line in f:\n",
    "        nums = pattern.findall(line)\n",
    "        calibration_sum += int(f\"{nums[0]}{nums[-1]}\")\n",
    "\n",
    "calibration_sum"
   ]
  },
  {
   "cell_type": "markdown",
   "metadata": {},
   "source": [
    "## part 2\n"
   ]
  },
  {
   "cell_type": "code",
   "execution_count": 127,
   "metadata": {},
   "outputs": [
    {
     "data": {
      "text/plain": [
       "54581"
      ]
     },
     "execution_count": 127,
     "metadata": {},
     "output_type": "execute_result"
    }
   ],
   "source": [
    "spelled_numbers = {\n",
    "    \"one\": \"1\",\n",
    "    \"two\": \"2\",\n",
    "    \"three\": \"3\",\n",
    "    \"four\": \"4\",\n",
    "    \"five\": \"5\",\n",
    "    \"six\": \"6\",\n",
    "    \"seven\": \"7\",\n",
    "    \"eight\": \"8\",\n",
    "    \"nine\": \"9\",\n",
    "}\n",
    "\n",
    "# handle overlapping matches like \"eighthree\"\n",
    "pattern = re.compile(f\"(?=(\\d|{'|'.join(spelled_numbers.keys())}))\")\n",
    "calibration_sum = 0\n",
    "\n",
    "with open(\"inputs/01.txt\") as f:\n",
    "    for line in f:\n",
    "        nums = [spelled_numbers.get(x, x) for x in pattern.findall(line)]\n",
    "        calibration_sum += int(f\"{nums[0]}{nums[-1]}\")\n",
    "\n",
    "calibration_sum"
   ]
  },
  {
   "cell_type": "markdown",
   "metadata": {},
   "source": [
    "# Day 2\n"
   ]
  },
  {
   "cell_type": "markdown",
   "metadata": {},
   "source": [
    "## part 1\n"
   ]
  },
  {
   "cell_type": "code",
   "execution_count": 129,
   "metadata": {},
   "outputs": [
    {
     "data": {
      "text/plain": [
       "2512"
      ]
     },
     "execution_count": 129,
     "metadata": {},
     "output_type": "execute_result"
    }
   ],
   "source": [
    "import re\n",
    "import math\n",
    "\n",
    "\n",
    "max_cubes = {\"red\": 12, \"green\": 13, \"blue\": 14}\n",
    "\n",
    "pattern = re.compile(r\"(\\d+) (red|green|blue)\")\n",
    "valid_ids_sum = 0\n",
    "\n",
    "with open(\"inputs/02.txt\") as f:\n",
    "    for line in f:\n",
    "        id, trials = line.split(\":\")\n",
    "        id = int(id.split()[-1])\n",
    "\n",
    "        trials = pattern.findall(trials)\n",
    "        trials = [(color, int(num)) for num, color in trials]\n",
    "        valid = [max_cubes[color] >= num for (color, num) in trials]\n",
    "\n",
    "        if all(valid):\n",
    "            valid_ids_sum += id\n",
    "\n",
    "valid_ids_sum"
   ]
  },
  {
   "cell_type": "markdown",
   "metadata": {},
   "source": [
    "## part 2\n"
   ]
  },
  {
   "cell_type": "code",
   "execution_count": 130,
   "metadata": {},
   "outputs": [
    {
     "data": {
      "text/plain": [
       "67335"
      ]
     },
     "execution_count": 130,
     "metadata": {},
     "output_type": "execute_result"
    }
   ],
   "source": [
    "power_set_sum = 0\n",
    "\n",
    "with open(\"inputs/02.txt\") as f:\n",
    "    for line in f:\n",
    "        trials = line.split(\":\")[-1]\n",
    "        trials = pattern.findall(trials)\n",
    "        trials = [(color, int(num)) for num, color in trials]\n",
    "\n",
    "        max_color = {\"red\": 0, \"green\": 0, \"blue\": 0}\n",
    "\n",
    "        for color, num in trials:\n",
    "            max_color[color] = max(max_color[color], num)\n",
    "\n",
    "        power_set_sum += math.prod(max_color.values())\n",
    "\n",
    "power_set_sum"
   ]
  },
  {
   "cell_type": "markdown",
   "metadata": {},
   "source": [
    "# Day 3\n"
   ]
  },
  {
   "cell_type": "markdown",
   "metadata": {},
   "source": [
    "## part 1\n"
   ]
  },
  {
   "cell_type": "code",
   "execution_count": 131,
   "metadata": {},
   "outputs": [
    {
     "data": {
      "text/plain": [
       "525911"
      ]
     },
     "execution_count": 131,
     "metadata": {},
     "output_type": "execute_result"
    }
   ],
   "source": [
    "import string\n",
    "import itertools\n",
    "import math\n",
    "\n",
    "\n",
    "def padding_row(line_len):\n",
    "    return \"\".join([\".\"] * line_len + [\"\\n\"])\n",
    "\n",
    "\n",
    "def pad_row(row):\n",
    "    return [\".\", *row.strip(), \".\"]\n",
    "\n",
    "\n",
    "def pad_iterator(iterator):\n",
    "    line_len = len(iterator.readline().strip())\n",
    "    iterator.seek(0)\n",
    "\n",
    "    return itertools.chain([padding_row(line_len)], iterator)\n",
    "\n",
    "\n",
    "def part_number(top, middle, bottom, window_start, window_end, symbols):\n",
    "    num = int(\"\".join(middle[window_start:window_end]))\n",
    "\n",
    "    top = set(top[window_start - 1 : window_end + 1])\n",
    "    middle = set(middle[window_start - 1 : window_end + 1])\n",
    "    bottom = set(bottom[window_start - 1 : window_end + 1])\n",
    "\n",
    "    if len((top | middle | bottom) & symbols) > 0:\n",
    "        return num\n",
    "    else:\n",
    "        return 0\n",
    "\n",
    "\n",
    "symbols = set(string.punctuation) - {\".\"}\n",
    "is_last_row = False\n",
    "parts_sum = 0\n",
    "\n",
    "with open(\"inputs/03.txt\") as f:\n",
    "    f = pad_iterator(f)\n",
    "\n",
    "    top = next(f)\n",
    "    middle = next(f)\n",
    "    bottom = next(f)\n",
    "\n",
    "    top, middle = pad_row(top), pad_row(middle)\n",
    "\n",
    "    while bottom is not None:\n",
    "        bottom = pad_row(bottom)\n",
    "        window_start = window_end = 1\n",
    "        found_number = False\n",
    "\n",
    "        while window_end < len(middle):\n",
    "            match found_number, middle[window_end].isnumeric():\n",
    "                case True, False:\n",
    "                    parts_sum += part_number(top, middle, bottom, window_start, window_end, symbols)\n",
    "                    found_number = False\n",
    "                case False, True:\n",
    "                    found_number = True\n",
    "                    window_start = window_end\n",
    "\n",
    "            window_end += 1\n",
    "\n",
    "        top = middle\n",
    "        middle = bottom\n",
    "        bottom = next(f, None)\n",
    "\n",
    "        if bottom is None and not is_last_row:\n",
    "            is_last_row = True\n",
    "            bottom = padding_row(len(middle))\n",
    "\n",
    "parts_sum"
   ]
  },
  {
   "cell_type": "markdown",
   "metadata": {},
   "source": [
    "## part 2\n"
   ]
  },
  {
   "cell_type": "code",
   "execution_count": 132,
   "metadata": {},
   "outputs": [
    {
     "data": {
      "text/plain": [
       "75805607"
      ]
     },
     "execution_count": 132,
     "metadata": {},
     "output_type": "execute_result"
    }
   ],
   "source": [
    "def get_number(row, position):\n",
    "    left = right = position\n",
    "    while row[left - 1].isnumeric():\n",
    "        left -= 1\n",
    "    while row[right + 1].isnumeric():\n",
    "        right += 1\n",
    "    return int(\"\".join(row[left : right + 1]))\n",
    "\n",
    "\n",
    "def check_top_or_bottom(row, position):\n",
    "    nums = []\n",
    "    if row[position].isnumeric():\n",
    "        nums.append(get_number(row, position))\n",
    "    else:\n",
    "        if row[position - 1].isnumeric():\n",
    "            nums.append(get_number(row, position - 1))\n",
    "        if row[position + 1].isnumeric():\n",
    "            nums.append(get_number(row, position + 1))\n",
    "\n",
    "    return nums\n",
    "\n",
    "\n",
    "def check_left_or_right(row, position):\n",
    "    nums = []\n",
    "    if row[position].isnumeric():\n",
    "        nums.append(get_number(row, position))\n",
    "\n",
    "    return nums\n",
    "\n",
    "\n",
    "is_last_row = False\n",
    "gear_product = 0\n",
    "\n",
    "with open(\"inputs/03.txt\") as f:\n",
    "    f = pad_iterator(f)\n",
    "\n",
    "    top = next(f)\n",
    "    middle = next(f)\n",
    "    bottom = next(f)\n",
    "\n",
    "    top, middle = pad_row(top), pad_row(middle)\n",
    "\n",
    "    while bottom is not None:\n",
    "        bottom = pad_row(bottom)\n",
    "\n",
    "        for position, char in enumerate(middle):\n",
    "            if char == \"*\":\n",
    "                nums = [\n",
    "                    *check_top_or_bottom(top, position),\n",
    "                    *check_top_or_bottom(bottom, position),\n",
    "                    *check_left_or_right(middle, position - 1),\n",
    "                    *check_left_or_right(middle, position + 1),\n",
    "                ]\n",
    "\n",
    "                if len(nums) == 2:\n",
    "                    gear_product += math.prod(nums)\n",
    "\n",
    "        top = middle\n",
    "        middle = bottom\n",
    "        bottom = next(f, None)\n",
    "\n",
    "        if bottom is None and not is_last_row:\n",
    "            is_last_row = True\n",
    "            bottom = padding_row(len(middle))\n",
    "\n",
    "gear_product"
   ]
  },
  {
   "cell_type": "markdown",
   "metadata": {},
   "source": [
    "# Day 4\n"
   ]
  },
  {
   "cell_type": "markdown",
   "metadata": {},
   "source": [
    "## part 1\n"
   ]
  },
  {
   "cell_type": "code",
   "execution_count": 138,
   "metadata": {},
   "outputs": [
    {
     "data": {
      "text/plain": [
       "23847"
      ]
     },
     "execution_count": 138,
     "metadata": {},
     "output_type": "execute_result"
    }
   ],
   "source": [
    "def get_plays(line):\n",
    "    nums = line.split(\":\")[-1]\n",
    "    winning, played = nums.split(\"|\")\n",
    "    winning, played = set(map(int, winning.split())), set(map(int, played.split()))\n",
    "\n",
    "    return winning, played\n",
    "\n",
    "\n",
    "def get_deck(filepath):\n",
    "    deck = []\n",
    "    with open(filepath) as f:\n",
    "        for line in f:\n",
    "            winning, played = get_plays(line)\n",
    "            deck.append((winning, played))\n",
    "\n",
    "    return deck\n",
    "\n",
    "\n",
    "deck = get_deck(\"inputs/04.txt\")\n",
    "points = 0\n",
    "for winning, played in deck:\n",
    "    num_matches = len(winning & played)\n",
    "    if num_matches > 0:\n",
    "        points += 2 ** (num_matches - 1)\n",
    "\n",
    "points"
   ]
  },
  {
   "cell_type": "markdown",
   "metadata": {},
   "source": [
    "## part 2\n"
   ]
  },
  {
   "cell_type": "code",
   "execution_count": 137,
   "metadata": {},
   "outputs": [
    {
     "data": {
      "text/plain": [
       "8570000"
      ]
     },
     "execution_count": 137,
     "metadata": {},
     "output_type": "execute_result"
    }
   ],
   "source": [
    "weights = [1] * len(deck)\n",
    "for i, (winning, played) in enumerate(deck):\n",
    "    num_matches = len(winning & played)\n",
    "\n",
    "    if num_matches > 0:\n",
    "        for j in range(1, num_matches + 1):\n",
    "            weights[i + j] += weights[i]\n",
    "\n",
    "sum(weights)"
   ]
  },
  {
   "cell_type": "markdown",
   "metadata": {},
   "source": [
    "# Day 5\n"
   ]
  },
  {
   "cell_type": "markdown",
   "metadata": {},
   "source": [
    "## part 1\n"
   ]
  },
  {
   "cell_type": "code",
   "execution_count": 121,
   "metadata": {},
   "outputs": [
    {
     "name": "stdout",
     "output_type": "stream",
     "text": [
      "424490994\n"
     ]
    }
   ],
   "source": [
    "import re\n",
    "\n",
    "\n",
    "def parse_input(filepath):\n",
    "    PARSING_INDICES = {\n",
    "        \"seed-to-soil map:\": 0,\n",
    "        \"soil-to-fertilizer map:\": 1,\n",
    "        \"fertilizer-to-water map:\": 2,\n",
    "        \"water-to-light map:\": 3,\n",
    "        \"light-to-temperature map:\": 4,\n",
    "        \"temperature-to-humidity map:\": 5,\n",
    "        \"humidity-to-location map:\": 6,\n",
    "    }\n",
    "\n",
    "    pattern = re.compile(r\"\\d+\")\n",
    "    mappings = [list() for _ in range(7)]\n",
    "    current_parse_index = None\n",
    "\n",
    "    with open(filepath) as f:\n",
    "        for line in f:\n",
    "            if len(line.strip()) == 0:\n",
    "                continue\n",
    "\n",
    "            if line.strip() in PARSING_INDICES:\n",
    "                current_parse_index = PARSING_INDICES[line.strip()]\n",
    "                continue\n",
    "\n",
    "            if current_parse_index is not None:\n",
    "                destination, source, size = list(map(int, pattern.findall(line)))\n",
    "                mappings[current_parse_index].append((source, source + size, destination))\n",
    "            else:\n",
    "                seeds = list(map(int, pattern.findall(line)))\n",
    "\n",
    "    for m in mappings:\n",
    "        m.sort(key=lambda x: x[0])\n",
    "\n",
    "    return seeds, mappings\n",
    "\n",
    "\n",
    "# assumes arr is sorted (ascending)\n",
    "def search(arr, val):\n",
    "    left, right = 0, len(arr) - 1\n",
    "    result = None\n",
    "\n",
    "    while left <= right:\n",
    "        mid = (left + right) // 2\n",
    "        if arr[mid][0] <= val:\n",
    "            result = arr[mid]\n",
    "            left = mid + 1\n",
    "        else:\n",
    "            right = mid - 1\n",
    "\n",
    "    return result\n",
    "\n",
    "\n",
    "def get_location(seed, mappings):\n",
    "    loc = seed\n",
    "    for m in mappings:\n",
    "        range_map = search(m, loc)\n",
    "        if range_map is not None and loc <= range_map[1]:\n",
    "            loc += range_map[2] - range_map[0]\n",
    "\n",
    "    return loc\n",
    "\n",
    "\n",
    "def get_locations(seeds, mappings):\n",
    "    locations = [*seeds]\n",
    "    for i, seed in enumerate(locations):\n",
    "        locations[i] = get_location(seed, mappings)\n",
    "\n",
    "    return locations\n",
    "\n",
    "\n",
    "# map is encoded as (source start, source end, destination start)\n",
    "seeds, mappings = parse_input(\"inputs/05.txt\")\n",
    "counts = min(get_location(s, mappings) for s in seeds)\n",
    "\n",
    "print(counts)"
   ]
  },
  {
   "cell_type": "markdown",
   "metadata": {},
   "source": [
    "## part 2\n"
   ]
  },
  {
   "cell_type": "code",
   "execution_count": 122,
   "metadata": {},
   "outputs": [
    {
     "data": {
      "text/plain": [
       "15290096"
      ]
     },
     "execution_count": 122,
     "metadata": {},
     "output_type": "execute_result"
    }
   ],
   "source": [
    "# seed intervals are encoded as (start, end)\n",
    "# for each seed interval, we need to propagate its through the maps\n",
    "\n",
    "# for each I_source, offset in maps:\n",
    "#    for each seed interval I_seed:\n",
    "#       if I_seed is outside I_source: I_seed is propagated as is\n",
    "#       if I_seed is inside I_source: I_seed is shifted by offset\n",
    "#       if it overlaps we need to split the interval in 2\n",
    "#           part of I_seed within I_source will be shifted by offset\n",
    "#           part of I_seed outside I_source is propagated as is\n",
    "\n",
    "# we end up with a bunch of intervals\n",
    "\n",
    "# map : (source start, source end, destination start)\n",
    "# seed: (seed start, seed end)\n",
    "\n",
    "seed_intervals = [(start, start + size - 1) for start, size in zip(seeds[::2], seeds[1::2])]\n",
    "current_intervals = [*seed_intervals]\n",
    "\n",
    "for m in mappings:\n",
    "    split_intervals = []\n",
    "\n",
    "    for source_start, source_end, dest_start in m:\n",
    "        offset = dest_start - source_start\n",
    "        tmp_intervals = []\n",
    "\n",
    "        while current_intervals:\n",
    "            (seed_start, seed_end) = current_intervals.pop()\n",
    "\n",
    "            left = (seed_start, min(seed_end, source_start))\n",
    "            mid = (max(seed_start, source_start), min(source_end, seed_end))\n",
    "            right = (max(source_end, seed_start), seed_end)\n",
    "\n",
    "            if left[1] > left[0]:\n",
    "                # identity\n",
    "                tmp_intervals.append(left)\n",
    "            if mid[1] > mid[0]:\n",
    "                # split interval\n",
    "                split_intervals.append((mid[0] + offset, mid[1] + offset))\n",
    "            if right[1] > right[0]:\n",
    "                # identity\n",
    "                tmp_intervals.append(right)\n",
    "\n",
    "        current_intervals = tmp_intervals\n",
    "\n",
    "    current_intervals = [*current_intervals, *split_intervals]\n",
    "\n",
    "\n",
    "min(start for start, _ in current_intervals)"
   ]
  },
  {
   "cell_type": "markdown",
   "metadata": {},
   "source": [
    "# Day 6\n"
   ]
  },
  {
   "cell_type": "markdown",
   "metadata": {},
   "source": [
    "## part 1\n"
   ]
  },
  {
   "cell_type": "code",
   "execution_count": 139,
   "metadata": {},
   "outputs": [
    {
     "data": {
      "text/plain": [
       "1108800"
      ]
     },
     "execution_count": 139,
     "metadata": {},
     "output_type": "execute_result"
    }
   ],
   "source": [
    "import math\n",
    "import re\n",
    "\n",
    "\n",
    "def parse_input(filepath):\n",
    "    pattern = re.compile(r\"\\d+\")\n",
    "    with open(filepath) as f:\n",
    "        lines = f.readlines()\n",
    "\n",
    "    times = list(map(int, pattern.findall(lines[0])))\n",
    "    distances = list(map(int, pattern.findall(lines[1])))\n",
    "\n",
    "    return times, distances\n",
    "\n",
    "\n",
    "def solve_real_roots(a, b, c):\n",
    "    # assumes discriminant > 0\n",
    "    discriminant = b**2 - 4 * a * c\n",
    "    return (-b + math.sqrt(discriminant)) / (2 * a), (-b - math.sqrt(discriminant)) / (2 * a)\n",
    "\n",
    "\n",
    "def get_combinations(times, distances):\n",
    "    result = []\n",
    "    for t_max, d_record in zip(times, distances):\n",
    "        solutions = solve_real_roots(-1, t_max, -d_record)\n",
    "        solutions = (math.floor(solutions[0]) + 1, math.ceil(solutions[1]) - 1)\n",
    "        result.append(solutions[1] - solutions[0] + 1)\n",
    "\n",
    "    return result\n",
    "\n",
    "\n",
    "times, distances = parse_input(\"inputs/06.txt\")\n",
    "result = get_combinations(times, distances)\n",
    "\n",
    "math.prod(result)"
   ]
  },
  {
   "cell_type": "markdown",
   "metadata": {},
   "source": [
    "## part 2\n"
   ]
  },
  {
   "cell_type": "code",
   "execution_count": 140,
   "metadata": {},
   "outputs": [
    {
     "data": {
      "text/plain": [
       "36919753"
      ]
     },
     "execution_count": 140,
     "metadata": {},
     "output_type": "execute_result"
    }
   ],
   "source": [
    "times, distances = parse_input(\"inputs/06.txt\")\n",
    "times = [int(\"\".join(list(map(str, times))))]\n",
    "distances = [int(\"\".join(list(map(str, distances))))]\n",
    "\n",
    "result = get_combinations(times, distances)\n",
    "\n",
    "result[0]"
   ]
  },
  {
   "cell_type": "markdown",
   "metadata": {},
   "source": [
    "# Day 7\n"
   ]
  },
  {
   "cell_type": "markdown",
   "metadata": {},
   "source": [
    "## part 1\n"
   ]
  },
  {
   "cell_type": "code",
   "execution_count": 53,
   "metadata": {},
   "outputs": [
    {
     "data": {
      "text/plain": [
       "246409899"
      ]
     },
     "execution_count": 53,
     "metadata": {},
     "output_type": "execute_result"
    }
   ],
   "source": [
    "from collections import Counter\n",
    "\n",
    "\n",
    "def get_hands(filename):\n",
    "    hands = []\n",
    "    with open(filename) as f:\n",
    "        for line in f:\n",
    "            hand, bid = line.strip().split()\n",
    "            hands.append((list(hand), int(bid)))\n",
    "\n",
    "    return hands\n",
    "\n",
    "\n",
    "def score_hand_type(hand):\n",
    "    freqs = list(Counter(hand).values())\n",
    "    match (len(freqs), max(freqs)):\n",
    "        case (5, _):\n",
    "            return 0\n",
    "        case (4, _):\n",
    "            return 1\n",
    "        case (3, 2):\n",
    "            return 2\n",
    "        case (3, _):\n",
    "            return 3\n",
    "        case (2, 3):\n",
    "            return 4\n",
    "        case (2, _):\n",
    "            return 5\n",
    "        case (1, _):\n",
    "            return 6\n",
    "\n",
    "\n",
    "def score_cards(hand, cards_strength):\n",
    "    # hand is encoded in base 13, convert it to base 10\n",
    "    result = 0\n",
    "    base = 13\n",
    "    for i, card in enumerate(reversed(hand)):\n",
    "        result += cards_strength[card] * (base**i)\n",
    "\n",
    "    return result\n",
    "\n",
    "\n",
    "def utility(hand, cards_strength):\n",
    "    return score_hand_type(hand) * 1_000_000 + score_cards(hand, cards_strength)\n",
    "\n",
    "\n",
    "hands = get_hands(\"inputs/07.txt\")\n",
    "cards_strength = {c: i for i, c in enumerate(\"23456789TJQKA\")}\n",
    "utilities = [utility(hand, cards_strength) for hand, _ in hands]\n",
    "ranks = [sorted(utilities).index(x) + 1 for x in utilities]\n",
    "winnings = sum(rank * bid for rank, (_, bid) in zip(ranks, hands))\n",
    "\n",
    "winnings"
   ]
  },
  {
   "cell_type": "markdown",
   "metadata": {},
   "source": [
    "## part 2\n"
   ]
  },
  {
   "cell_type": "code",
   "execution_count": 55,
   "metadata": {},
   "outputs": [
    {
     "data": {
      "text/plain": [
       "244848487"
      ]
     },
     "execution_count": 55,
     "metadata": {},
     "output_type": "execute_result"
    }
   ],
   "source": [
    "def score_hand_type_with_jokers(hand):\n",
    "    replaced_hand = [*hand]\n",
    "    joker_indices = [i for i, c in enumerate(hand) if c == \"J\"]\n",
    "\n",
    "    if len(joker_indices) > 0:\n",
    "        hand_wo_jokers = [c for c in hand if c != \"J\"]\n",
    "\n",
    "        if len(hand_wo_jokers) > 0:\n",
    "            most_common = Counter(hand_wo_jokers).most_common(1)[0][0]\n",
    "            for idx in joker_indices:\n",
    "                replaced_hand[idx] = most_common\n",
    "        else:\n",
    "            replaced_hand = [\"A\"] * len(hand)\n",
    "\n",
    "    return score_hand_type(replaced_hand)\n",
    "\n",
    "\n",
    "def utility_part2(hand, cards_strength):\n",
    "    return score_hand_type_with_jokers(hand) * 1_000_000 + score_cards(hand, cards_strength)\n",
    "\n",
    "\n",
    "cards_strength = {c: i for i, c in enumerate(\"J23456789TQKA\")}\n",
    "\n",
    "utilities = [utility_part2(hand, cards_strength) for hand, _ in hands]\n",
    "ranks = [sorted(utilities).index(x) + 1 for x in utilities]\n",
    "winnings = sum(rank * bid for rank, (_, bid) in zip(ranks, hands))\n",
    "\n",
    "winnings"
   ]
  },
  {
   "cell_type": "markdown",
   "metadata": {},
   "source": [
    "# Day 8\n"
   ]
  },
  {
   "cell_type": "markdown",
   "metadata": {},
   "source": [
    "## part 1\n"
   ]
  },
  {
   "cell_type": "code",
   "execution_count": 2,
   "metadata": {},
   "outputs": [],
   "source": [
    "import re\n",
    "import math"
   ]
  },
  {
   "cell_type": "code",
   "execution_count": 5,
   "metadata": {},
   "outputs": [
    {
     "data": {
      "text/plain": [
       "12361"
      ]
     },
     "execution_count": 5,
     "metadata": {},
     "output_type": "execute_result"
    }
   ],
   "source": [
    "def get_input(filename):\n",
    "    match_node = re.compile(r\"([A-Z]{3})\")\n",
    "    is_first_line = True\n",
    "    instructions = None\n",
    "    edge_list = dict()\n",
    "    starting_nodes = []\n",
    "\n",
    "    with open(filename) as f:\n",
    "        for line in f:\n",
    "            line = line.strip()\n",
    "\n",
    "            if is_first_line:\n",
    "                instructions = list(line)\n",
    "                is_first_line = False\n",
    "                continue\n",
    "\n",
    "            if len(line) > 0:\n",
    "                node = match_node.findall(line)\n",
    "                position, left, right = node\n",
    "                edge_list[position] = (left, right)\n",
    "\n",
    "                if position[-1] == \"A\":\n",
    "                    starting_nodes.append(position)\n",
    "\n",
    "    return instructions, edge_list, starting_nodes\n",
    "\n",
    "\n",
    "def get_steps(instructions, edge_list, start_node=\"AAA\", end_node=\"ZZZ\"):\n",
    "    steps = 0\n",
    "    is_arrived = False\n",
    "    remaining_instructions = instructions[::-1]\n",
    "    current_position = start_node\n",
    "\n",
    "    while not is_arrived:\n",
    "        if len(remaining_instructions) == 0:\n",
    "            remaining_instructions = instructions[::-1]\n",
    "\n",
    "        if remaining_instructions.pop() == \"L\":\n",
    "            instruction = 0\n",
    "        else:\n",
    "            instruction = 1\n",
    "\n",
    "        current_position = edge_list[current_position][instruction]\n",
    "\n",
    "        # for part 1 and 2 respectively\n",
    "        if (end_node and current_position == end_node) or (end_node is None and current_position[-1] == \"Z\"):\n",
    "            is_arrived = True\n",
    "\n",
    "        steps += 1\n",
    "\n",
    "    return steps\n",
    "\n",
    "\n",
    "instructions, edge_list, starting_nodes = get_input(\"inputs/08.txt\")\n",
    "steps = get_steps(instructions, edge_list)\n",
    "\n",
    "steps"
   ]
  },
  {
   "cell_type": "markdown",
   "metadata": {},
   "source": [
    "## part 2\n",
    "\n",
    "So the problem has a very specific structure where each starting node is in its own subgraph and each subgraphs are not connected. They have an additionnal structure such that given the instructions and a starting point, the path is cyclical to reach the first node ending with a \"Z\" (so if you continue, you'll reach the same node again in the same amount of steps) with the same period, as it takes the same number of steps to go from start to end, and from end to end.\n",
    "\n",
    "With those special properties, we can simply find the number of steps to reach the first node ending with a \"Z\" for each starting point independently and find the smallest common multiple (LMC) of all the number of steps.\n"
   ]
  },
  {
   "cell_type": "code",
   "execution_count": 7,
   "metadata": {},
   "outputs": [
    {
     "data": {
      "text/plain": [
       "18215611419223"
      ]
     },
     "execution_count": 7,
     "metadata": {},
     "output_type": "execute_result"
    }
   ],
   "source": [
    "steps = [get_steps(instructions, edge_list, s, None) for s in starting_nodes]\n",
    "\n",
    "math.lcm(*steps)"
   ]
  },
  {
   "cell_type": "markdown",
   "metadata": {},
   "source": [
    "# Day 9\n"
   ]
  },
  {
   "cell_type": "markdown",
   "metadata": {},
   "source": [
    "## part 1\n"
   ]
  },
  {
   "cell_type": "code",
   "execution_count": 72,
   "metadata": {},
   "outputs": [
    {
     "data": {
      "text/plain": [
       "1995001648"
      ]
     },
     "execution_count": 72,
     "metadata": {},
     "output_type": "execute_result"
    }
   ],
   "source": [
    "import utils\n",
    "\n",
    "sequences = []\n",
    "with open(\"inputs/09.txt\") as f:\n",
    "    for line in f:\n",
    "        sequences.append(utils.get_ints(line))\n",
    "\n",
    "\n",
    "def diff(seq):\n",
    "    result = [None] * (len(seq) - 1)\n",
    "    for i in range(1, len(seq)):\n",
    "        result[i - 1] = seq[i] - seq[i - 1]\n",
    "\n",
    "    return result\n",
    "\n",
    "\n",
    "def dfs(seq, values, idx):\n",
    "    values.append(seq[idx])\n",
    "\n",
    "    if all(s == 0 for s in seq):\n",
    "        return\n",
    "\n",
    "    dfs(diff(seq), values, idx)\n",
    "\n",
    "    return values\n",
    "\n",
    "\n",
    "# A = l[i] + l[i+1]\n",
    "# B = A + l[i+2] = l[i] + l[i+1] + l[i+2] so it's just the sum of the last values\n",
    "result = sum(sum(dfs(s, [], -1)) for s in sequences)\n",
    "result"
   ]
  },
  {
   "cell_type": "markdown",
   "metadata": {},
   "source": [
    "## part 2\n"
   ]
  },
  {
   "cell_type": "code",
   "execution_count": 73,
   "metadata": {},
   "outputs": [
    {
     "data": {
      "text/plain": [
       "988"
      ]
     },
     "execution_count": 73,
     "metadata": {},
     "output_type": "execute_result"
    }
   ],
   "source": [
    "def dot(x, y):\n",
    "    assert len(x) == len(y)\n",
    "    res = 0\n",
    "    for i in range(len(x)):\n",
    "        res += x[i] * y[i]\n",
    "\n",
    "    return res\n",
    "\n",
    "\n",
    "extrapolations = 0\n",
    "for size in sequences:\n",
    "    first_values = dfs(size, [], 0)\n",
    "    metric = [(-1) ** i for i in range(len(first_values))]\n",
    "    extrapolations += dot(first_values, metric)\n",
    "\n",
    "extrapolations"
   ]
  },
  {
   "cell_type": "markdown",
   "metadata": {},
   "source": [
    "# Day 10\n"
   ]
  },
  {
   "cell_type": "markdown",
   "metadata": {},
   "source": [
    "## part 1\n"
   ]
  },
  {
   "cell_type": "code",
   "execution_count": 402,
   "metadata": {},
   "outputs": [
    {
     "data": {
      "text/plain": [
       "6886"
      ]
     },
     "execution_count": 402,
     "metadata": {},
     "output_type": "execute_result"
    }
   ],
   "source": [
    "from collections import deque\n",
    "\n",
    "\n",
    "def plot(grid, points, symbol=None):\n",
    "    new_grid = [[\".\"] * len(grid[0]) for _ in range(len(grid))]\n",
    "    for r, c in points:\n",
    "        new_grid[r][c] = symbol if symbol else grid[r][c]\n",
    "\n",
    "    for r in new_grid:\n",
    "        print(\" \".join(r))\n",
    "\n",
    "\n",
    "def get_grid(filepath):\n",
    "    grid = []\n",
    "    with open(filepath) as f:\n",
    "        for r, line in enumerate(f):\n",
    "            line = list(line.strip())\n",
    "            grid.append(line)\n",
    "\n",
    "            for c, e in enumerate(line):\n",
    "                if e == \"S\":\n",
    "                    start = (r, c)\n",
    "                    break\n",
    "\n",
    "    return grid, start\n",
    "\n",
    "\n",
    "def find_loop(grid, start):\n",
    "    n_r, n_c = len(grid), len(grid[0])\n",
    "    loop = set([start])\n",
    "    to_visit = deque([start])\n",
    "\n",
    "    while to_visit:\n",
    "        r, c = to_visit.popleft()\n",
    "        position = grid[r][c]\n",
    "        next = None\n",
    "\n",
    "        if r > 0 and position in (\"S\", \"|\", \"J\", \"L\") and grid[r - 1][c] in (\"|\", \"7\", \"F\") and (r - 1, c) not in loop:\n",
    "            next = (r - 1, c)\n",
    "\n",
    "        if (\n",
    "            r < n_r - 1\n",
    "            and position in (\"S\", \"|\", \"7\", \"F\")\n",
    "            and grid[r + 1][c] in (\"|\", \"L\", \"J\")\n",
    "            and (r + 1, c) not in loop\n",
    "        ):\n",
    "            next = (r + 1, c)\n",
    "\n",
    "        if c > 0 and position in (\"S\", \"-\", \"J\", \"7\") and grid[r][c - 1] in (\"-\", \"F\", \"L\") and (r, c - 1) not in loop:\n",
    "            next = (r, c - 1)\n",
    "\n",
    "        if (\n",
    "            c < n_c - 1\n",
    "            and position in (\"S\", \"-\", \"F\", \"L\")\n",
    "            and grid[r][c + 1] in (\"-\", \"J\", \"7\")\n",
    "            and (r, c + 1) not in loop\n",
    "        ):\n",
    "            next = (r, c + 1)\n",
    "\n",
    "        if next:\n",
    "            loop.add(next)\n",
    "            to_visit.append(next)\n",
    "\n",
    "    return loop\n",
    "\n",
    "\n",
    "grid, start = get_grid(\"inputs/10.txt\")\n",
    "loop = find_loop(grid, start)\n",
    "\n",
    "len(loop) // 2"
   ]
  },
  {
   "cell_type": "markdown",
   "metadata": {},
   "source": [
    "## part 2\n"
   ]
  },
  {
   "cell_type": "code",
   "execution_count": 403,
   "metadata": {},
   "outputs": [
    {
     "data": {
      "text/plain": [
       "371"
      ]
     },
     "execution_count": 403,
     "metadata": {},
     "output_type": "execute_result"
    }
   ],
   "source": [
    "def count_interior_points(grid, loop):\n",
    "    num_points = 0\n",
    "    interior_points = []\n",
    "\n",
    "    for r in range(1, len(grid) - 1):\n",
    "        for c in range(1, len(grid[0]) - 1):\n",
    "            if grid[r][c] == \"S\":\n",
    "                grid[r][c] = \"L\"\n",
    "\n",
    "            if (r, c) in loop:\n",
    "                continue\n",
    "\n",
    "            num_crossings = 0\n",
    "            cc = c - 1\n",
    "            while cc >= 0:\n",
    "                if (r, cc) in loop:\n",
    "                    if grid[r][cc] == \"|\":\n",
    "                        num_crossings += 1\n",
    "                    elif grid[r][cc] == \"J\":\n",
    "                        cc -= 1\n",
    "                        while cc >= 0 and grid[r][cc] == \"-\":\n",
    "                            cc -= 1\n",
    "                        if grid[r][cc] == \"F\":\n",
    "                            num_crossings += 1\n",
    "                    elif grid[r][cc] == \"7\":\n",
    "                        cc -= 1\n",
    "                        while cc >= 0 and grid[r][cc] == \"-\":\n",
    "                            cc -= 1\n",
    "                        if grid[r][cc] == \"L\":\n",
    "                            num_crossings += 1\n",
    "\n",
    "                cc -= 1\n",
    "\n",
    "            if num_crossings % 2 == 1:\n",
    "                num_points += 1\n",
    "                interior_points.append((r, c))\n",
    "\n",
    "    return interior_points\n",
    "\n",
    "\n",
    "len(count_interior_points(grid, loop))"
   ]
  },
  {
   "cell_type": "markdown",
   "metadata": {},
   "source": [
    "# Day 11\n"
   ]
  },
  {
   "cell_type": "markdown",
   "metadata": {},
   "source": [
    "## part 1\n"
   ]
  },
  {
   "cell_type": "code",
   "execution_count": 228,
   "metadata": {},
   "outputs": [
    {
     "data": {
      "text/plain": [
       "9403026"
      ]
     },
     "execution_count": 228,
     "metadata": {},
     "output_type": "execute_result"
    }
   ],
   "source": [
    "def rotate(arr):\n",
    "    return [list(i) for i in zip(*arr)]\n",
    "\n",
    "\n",
    "def dist(a, b):\n",
    "    y_a, x_a = a\n",
    "    y_b, x_b = b\n",
    "    return abs(x_b - x_a) + abs(y_b - y_a)\n",
    "\n",
    "\n",
    "def get_galaxies(space):\n",
    "    coords = []\n",
    "    for r in range(len(space)):\n",
    "        for c in range(len(space[0])):\n",
    "            if space[r][c] == \"#\":\n",
    "                coords.append((r, c))\n",
    "\n",
    "    return coords\n",
    "\n",
    "\n",
    "def expansion_inds(space):\n",
    "    inds = []\n",
    "    for r in range(len(space)):\n",
    "        if \"#\" not in space[r]:\n",
    "            inds.append(r)\n",
    "\n",
    "    return inds\n",
    "\n",
    "\n",
    "def get_distances(space, exp_f=1):\n",
    "    r_expand = expansion_inds(space)\n",
    "    c_expand = expansion_inds(rotate(space))\n",
    "    galaxies = get_galaxies(space)\n",
    "\n",
    "    distances = 0\n",
    "    for i in range(len(galaxies)):\n",
    "        for j in range(i + 1, len(galaxies)):\n",
    "            ga, gb = galaxies[i], galaxies[j]\n",
    "\n",
    "            r_sign = c_sign = 1\n",
    "            if ga[0] > gb[0]:\n",
    "                r_sign = -1\n",
    "            if ga[1] > gb[1]:\n",
    "                c_sign = -1\n",
    "\n",
    "            min_r, min_c = min(ga[0], gb[0]), min(ga[1], gb[1])\n",
    "            max_r, max_c = max(ga[0], gb[0]), max(ga[1], gb[1])\n",
    "            nr_expand = len(list(filter(lambda x: min_r < x < max_r, r_expand)))\n",
    "            nc_expand = len(list(filter(lambda x: min_c < x < max_c, c_expand)))\n",
    "\n",
    "            nr_expand *= r_sign * exp_f\n",
    "            nc_expand *= c_sign * exp_f\n",
    "\n",
    "            distances += dist(ga, (gb[0] + nr_expand, gb[1] + nc_expand))\n",
    "\n",
    "    return distances\n",
    "\n",
    "\n",
    "space = []\n",
    "with open(\"inputs/11.txt\") as f:\n",
    "    for line in f:\n",
    "        space.append(list(line.strip()))\n",
    "\n",
    "distances = get_distances(space)\n",
    "distances"
   ]
  },
  {
   "cell_type": "markdown",
   "metadata": {},
   "source": [
    "## part 2\n"
   ]
  },
  {
   "cell_type": "code",
   "execution_count": 229,
   "metadata": {},
   "outputs": [
    {
     "data": {
      "text/plain": [
       "543018317006"
      ]
     },
     "execution_count": 229,
     "metadata": {},
     "output_type": "execute_result"
    }
   ],
   "source": [
    "distances = get_distances(space, exp_f=1_000_000 - 1)\n",
    "distances"
   ]
  },
  {
   "cell_type": "markdown",
   "metadata": {},
   "source": [
    "# Day 12\n"
   ]
  },
  {
   "cell_type": "markdown",
   "metadata": {},
   "source": [
    "## part 1\n"
   ]
  },
  {
   "cell_type": "code",
   "execution_count": 762,
   "metadata": {},
   "outputs": [],
   "source": [
    "lines = []\n",
    "with open(\"inputs/12.txt\") as f:\n",
    "    for line in f:\n",
    "        conds, groups = line.split(\" \")\n",
    "        groups = tuple(utils.get_ints(line))\n",
    "        lines.append((conds, groups))"
   ]
  },
  {
   "cell_type": "code",
   "execution_count": 763,
   "metadata": {},
   "outputs": [
    {
     "data": {
      "text/plain": [
       "7916"
      ]
     },
     "execution_count": 763,
     "metadata": {},
     "output_type": "execute_result"
    }
   ],
   "source": [
    "def arrangements(conds, groups, memo={}):\n",
    "    # base cases for tree parsing:\n",
    "    # no more spot to check\n",
    "    if len(conds) == 0:\n",
    "        # and exhausted the groups then arrangement is valid\n",
    "        if len(groups) == 0:\n",
    "            return 1\n",
    "        else:\n",
    "            return 0\n",
    "    # exhausted the groups but potentially still have spots\n",
    "    if len(groups) == 0:\n",
    "        # if some spring remains then the arrangement is not valid\n",
    "        if \"#\" in conds:\n",
    "            return 0\n",
    "        else:\n",
    "            return 1\n",
    "\n",
    "    # check if we already checked this arrangement\n",
    "    if (conds, groups) in memo:\n",
    "        return memo[(conds, groups)]\n",
    "\n",
    "    curr, size = conds[0], groups[0]\n",
    "    counts = 0\n",
    "\n",
    "    # if \".\" or \"?\" we advance without using a group (if it's a ? we remplace it by a .)\n",
    "    if curr == \".\" or curr == \"?\":\n",
    "        counts += arrangements(conds[1:], groups, memo)\n",
    "\n",
    "    # for the second case with \"?\" we replace it by a # and do the same if it's a #.\n",
    "    # we reduce groups and advance by size\n",
    "    # For both it's only valid if:\n",
    "    # - we can fit the current group in the remaining spots\n",
    "    # - there is no . within the range defined by the current group size (otherwise it won't be contiguous and thus not valid)\n",
    "    # - and if we have exactly size spots left or the last element at size index is not a # (otherwise we would have a +1 and thus not valid)\n",
    "    if (\n",
    "        (curr == \"#\" or curr == \"?\")\n",
    "        and len(conds) >= size\n",
    "        and \".\" not in conds[:size]\n",
    "        and (size == len(conds) or conds[size] != \"#\")\n",
    "    ):\n",
    "        counts += arrangements(conds[size + 1 :], groups[1:])\n",
    "\n",
    "    memo[(conds, groups)] = counts\n",
    "    return counts\n",
    "\n",
    "\n",
    "answer = 0\n",
    "for line in lines:\n",
    "    answer += arrangements(*line)\n",
    "\n",
    "answer"
   ]
  },
  {
   "cell_type": "markdown",
   "metadata": {},
   "source": [
    "7916\n"
   ]
  },
  {
   "cell_type": "markdown",
   "metadata": {},
   "source": [
    "## part 2\n"
   ]
  },
  {
   "cell_type": "code",
   "execution_count": 764,
   "metadata": {},
   "outputs": [
    {
     "data": {
      "text/plain": [
       "37366887898686"
      ]
     },
     "execution_count": 764,
     "metadata": {},
     "output_type": "execute_result"
    }
   ],
   "source": [
    "answer = 0\n",
    "for line in lines:\n",
    "    answer += arrangements(\"?\".join([line[0]] * 5), line[1] * 5)\n",
    "\n",
    "answer"
   ]
  },
  {
   "cell_type": "markdown",
   "metadata": {},
   "source": [
    "# Day 13\n"
   ]
  },
  {
   "cell_type": "markdown",
   "metadata": {},
   "source": [
    "## part 1\n"
   ]
  },
  {
   "cell_type": "code",
   "execution_count": 265,
   "metadata": {},
   "outputs": [
    {
     "data": {
      "text/plain": [
       "100"
      ]
     },
     "execution_count": 265,
     "metadata": {},
     "output_type": "execute_result"
    }
   ],
   "source": [
    "patterns = []\n",
    "curr_pattern = []\n",
    "with open(\"inputs/13.txt\") as f:\n",
    "    for line in f:\n",
    "        line = line.strip()\n",
    "        if len(line) > 0:\n",
    "            curr_pattern.append(list(line))\n",
    "        else:\n",
    "            patterns.append(curr_pattern)\n",
    "            curr_pattern = []\n",
    "\n",
    "len(patterns)"
   ]
  },
  {
   "cell_type": "code",
   "execution_count": 268,
   "metadata": {},
   "outputs": [
    {
     "data": {
      "text/plain": [
       "29846"
      ]
     },
     "execution_count": 268,
     "metadata": {},
     "output_type": "execute_result"
    }
   ],
   "source": [
    "def plot(pattern, t=False):\n",
    "    if t:\n",
    "        pattern = rotate(pattern)\n",
    "    for l in pattern:\n",
    "        print(\" \".join(l))\n",
    "\n",
    "\n",
    "def rotate(arr):\n",
    "    return [list(i) for i in zip(*arr)]\n",
    "\n",
    "\n",
    "def num_diffs(a, b):\n",
    "    num_diff = 0\n",
    "    for x, y in zip(a, b):\n",
    "        if x != y:\n",
    "            num_diff += 1\n",
    "\n",
    "    return num_diff\n",
    "\n",
    "\n",
    "def find_reflection_(pattern, max_diff=0):\n",
    "    nr = len(pattern)\n",
    "    for r in range(nr - 1):\n",
    "        num_diff = 0\n",
    "        for r_w in range(min(nr - (r + 1), r + 1)):\n",
    "            num_diff += num_diffs(pattern[r - r_w], pattern[r + r_w + 1])\n",
    "            if num_diff > max_diff:\n",
    "                break\n",
    "\n",
    "        if num_diff == max_diff:\n",
    "            return r + 1\n",
    "\n",
    "    return 0\n",
    "\n",
    "\n",
    "def summary(patterns, max_diff):\n",
    "    hor_reflections = ver_reflections = 0\n",
    "    for pattern in patterns:\n",
    "        h = find_reflection_(pattern, max_diff)\n",
    "        v = find_reflection_(rotate(pattern), max_diff)\n",
    "        assert h > 0 or v > 0\n",
    "\n",
    "        hor_reflections += h\n",
    "        ver_reflections += v\n",
    "\n",
    "    return hor_reflections * 100 + ver_reflections\n",
    "\n",
    "\n",
    "summary(patterns, 0)"
   ]
  },
  {
   "cell_type": "markdown",
   "metadata": {},
   "source": [
    "## part 2\n"
   ]
  },
  {
   "cell_type": "code",
   "execution_count": 269,
   "metadata": {},
   "outputs": [
    {
     "data": {
      "text/plain": [
       "25401"
      ]
     },
     "execution_count": 269,
     "metadata": {},
     "output_type": "execute_result"
    }
   ],
   "source": [
    "summary(patterns, 1)"
   ]
  },
  {
   "cell_type": "markdown",
   "metadata": {},
   "source": [
    "# Day 14\n"
   ]
  },
  {
   "cell_type": "markdown",
   "metadata": {},
   "source": [
    "## part 1\n"
   ]
  },
  {
   "cell_type": "code",
   "execution_count": 948,
   "metadata": {},
   "outputs": [],
   "source": [
    "grid = []\n",
    "with open(\"inputs/14.txt\") as f:\n",
    "    for line in f:\n",
    "        grid.append(list(line.strip()))"
   ]
  },
  {
   "cell_type": "code",
   "execution_count": 949,
   "metadata": {},
   "outputs": [
    {
     "data": {
      "text/plain": [
       "109654"
      ]
     },
     "execution_count": 949,
     "metadata": {},
     "output_type": "execute_result"
    }
   ],
   "source": [
    "def plot(pattern, t=False):\n",
    "    if t:\n",
    "        pattern = rotate(pattern)\n",
    "    for l in pattern:\n",
    "        print(\" \".join(l))\n",
    "    print()\n",
    "\n",
    "\n",
    "def rotate(arr, clockwise=True):\n",
    "    if not clockwise:\n",
    "        arr = [list(i) for i in zip(*arr)]\n",
    "        return arr[::-1]\n",
    "    else:\n",
    "        arr = [list(i) for i in zip(*arr[::-1])]\n",
    "        return arr\n",
    "\n",
    "\n",
    "def tilt(grid):\n",
    "    for row in grid:\n",
    "        empty_spot = 0\n",
    "        for i, spot in enumerate(row):\n",
    "            if spot == \"O\":\n",
    "                row[i] = \".\"\n",
    "                row[empty_spot] = \"O\"\n",
    "                empty_spot += 1\n",
    "            if spot == \"#\":\n",
    "                empty_spot = i + 1\n",
    "\n",
    "    return grid\n",
    "\n",
    "\n",
    "def calculate_load(grid):\n",
    "    load = 0\n",
    "    for col in grid:\n",
    "        load += sum(len(col) - i for i, spot in enumerate(col) if spot == \"O\")\n",
    "    return load\n",
    "\n",
    "\n",
    "calculate_load(tilt(rotate(grid, False)))"
   ]
  },
  {
   "cell_type": "markdown",
   "metadata": {},
   "source": [
    "## part 2\n"
   ]
  },
  {
   "cell_type": "code",
   "execution_count": 950,
   "metadata": {},
   "outputs": [
    {
     "data": {
      "text/plain": [
       "94876"
      ]
     },
     "execution_count": 950,
     "metadata": {},
     "output_type": "execute_result"
    }
   ],
   "source": [
    "def encode(g):\n",
    "    return \",\".join(\"\".join(r) for r in g)\n",
    "\n",
    "\n",
    "def run_cycle(g):\n",
    "    for _ in range(4):\n",
    "        g = rotate(tilt(g))\n",
    "    return g\n",
    "\n",
    "\n",
    "g = rotate(grid, clockwise=False)\n",
    "states = dict()\n",
    "cycle = 0\n",
    "\n",
    "while cycle < 1_000_000_000:\n",
    "    state = encode(g)\n",
    "\n",
    "    if state in states:\n",
    "        period = cycle - states[state]\n",
    "        remaining = (1_000_000_000 - cycle) % period\n",
    "        cycle = 1_000_000_000 - remaining\n",
    "\n",
    "    g = run_cycle(g)\n",
    "    states[state] = cycle\n",
    "    cycle += 1\n",
    "\n",
    "\n",
    "calculate_load(g)"
   ]
  },
  {
   "cell_type": "markdown",
   "metadata": {},
   "source": [
    "# Day 15\n"
   ]
  },
  {
   "cell_type": "markdown",
   "metadata": {},
   "source": [
    "## part 1\n"
   ]
  },
  {
   "cell_type": "code",
   "execution_count": 678,
   "metadata": {},
   "outputs": [
    {
     "name": "stdout",
     "output_type": "stream",
     "text": [
      "4000\n"
     ]
    },
    {
     "data": {
      "text/plain": [
       "506269"
      ]
     },
     "execution_count": 678,
     "metadata": {},
     "output_type": "execute_result"
    }
   ],
   "source": [
    "def encode(input, mult=17, base=256):\n",
    "    val = 0\n",
    "    for c in input:\n",
    "        val += ord(c)\n",
    "        val *= mult\n",
    "        val %= val\n",
    "\n",
    "    return val\n",
    "\n",
    "\n",
    "sequence = []\n",
    "with open(\"inputs/15.txt\") as f:\n",
    "    for line in f:\n",
    "        sequence.extend(line.strip().split(\",\"))\n",
    "\n",
    "print(len(sequence))\n",
    "sum(encode(s) for s in sequence)"
   ]
  },
  {
   "cell_type": "markdown",
   "metadata": {},
   "source": [
    "## part 2\n"
   ]
  },
  {
   "cell_type": "code",
   "execution_count": 686,
   "metadata": {},
   "outputs": [],
   "source": [
    "class Lens:\n",
    "    def __init__(self, label: str, focal: int) -> None:\n",
    "        self.label = label\n",
    "        self.focal = focal\n",
    "        self.next = None\n",
    "\n",
    "    def __repr__(self) -> str:\n",
    "        return f\"({self.label}: {self.focal})\"\n",
    "\n",
    "\n",
    "class Box:\n",
    "    def __init__(self) -> None:\n",
    "        self.head = None\n",
    "\n",
    "    def __iter__(self) -> Lens:\n",
    "        lens = self.head\n",
    "        while lens:\n",
    "            yield lens\n",
    "            lens = lens.next\n",
    "\n",
    "    def upsert(self, lens: Lens) -> None:\n",
    "        if self.head is None:\n",
    "            self.head = lens\n",
    "\n",
    "        for l in self:\n",
    "            if l.label == lens.label:\n",
    "                l.focal = lens.focal\n",
    "                return\n",
    "\n",
    "        l.next = lens\n",
    "\n",
    "    def remove(self, label: str) -> None:\n",
    "        if not self.head:\n",
    "            return\n",
    "\n",
    "        if self.head.label == label:\n",
    "            self.head = self.head.next\n",
    "            return\n",
    "\n",
    "        previous = self.head\n",
    "        for lens in self:\n",
    "            if lens.label == label:\n",
    "                previous.next = lens.next\n",
    "                return\n",
    "            previous = lens\n",
    "\n",
    "    def __repr__(self) -> str:\n",
    "        lens = self.head\n",
    "        nodes = []\n",
    "        while lens:\n",
    "            nodes.append(str(lens))\n",
    "            lens = lens.next\n",
    "        return \" -> \".join(nodes)\n",
    "\n",
    "    @property\n",
    "    def is_empty(self):\n",
    "        return self.head is None\n",
    "\n",
    "    @property\n",
    "    def power(self):\n",
    "        p = 0\n",
    "        for i, lens in enumerate(self):\n",
    "            p += (i + 1) * lens.focal\n",
    "\n",
    "        return p\n",
    "\n",
    "\n",
    "def print_state(op, boxes):\n",
    "    print(op)\n",
    "    for i, b in enumerate(boxes):\n",
    "        if not b.is_empty:\n",
    "            print(i, b)\n",
    "    print()"
   ]
  },
  {
   "cell_type": "code",
   "execution_count": 687,
   "metadata": {},
   "outputs": [
    {
     "data": {
      "text/plain": [
       "264021"
      ]
     },
     "execution_count": 687,
     "metadata": {},
     "output_type": "execute_result"
    }
   ],
   "source": [
    "boxes = [Box() for _ in range(256)]\n",
    "for s in sequence:\n",
    "    label, focal = re.split(\"=|-\", s)\n",
    "    box_id = encode(label)\n",
    "\n",
    "    if focal == \"\":\n",
    "        boxes[box_id].remove(label)\n",
    "    else:\n",
    "        boxes[box_id].upsert(Lens(label, int(focal)))\n",
    "\n",
    "sum((i + 1) * b.power for i, b in enumerate(boxes) if not b.is_empty)"
   ]
  },
  {
   "cell_type": "markdown",
   "metadata": {},
   "source": [
    "# Day 16\n"
   ]
  },
  {
   "cell_type": "markdown",
   "metadata": {},
   "source": [
    "## part 1"
   ]
  },
  {
   "cell_type": "code",
   "execution_count": 1176,
   "metadata": {},
   "outputs": [],
   "source": [
    "grid = []\n",
    "with open(\"inputs/16.txt\") as f:\n",
    "    for line in f:\n",
    "        grid.append(list(line.strip()))\n"
   ]
  },
  {
   "cell_type": "code",
   "execution_count": 1185,
   "metadata": {},
   "outputs": [],
   "source": [
    "from enum import Enum\n",
    "\n",
    "\n",
    "class Point:\n",
    "    def __init__(self, r, c):\n",
    "        self.position = (r, c)\n",
    "\n",
    "    def __add__(self, other):\n",
    "        return Point(self.r + other.r, self.c + other.c)\n",
    "\n",
    "    @property\n",
    "    def r(self):\n",
    "        return self.position[0]\n",
    "\n",
    "    @property\n",
    "    def c(self):\n",
    "        return self.position[1]\n",
    "\n",
    "    def __repr__(self):\n",
    "        return f\"{self.position}\"\n",
    "\n",
    "\n",
    "class Direction(Enum):\n",
    "    LEFT = Point(0, -1)\n",
    "    RIGHT = Point(0, 1)\n",
    "    UP = Point(-1, 0)\n",
    "    DOWN = Point(1, 0)\n",
    "\n",
    "\n",
    "class Beam:\n",
    "    def __init__(self, position, direction):\n",
    "        self.position = position\n",
    "        self.direction = direction\n",
    "\n",
    "    def __repr__(self):\n",
    "        return f\"({self.position}, {self.direction})\"\n",
    "\n",
    "    @property\n",
    "    def key(self):\n",
    "        return str(self)\n",
    "\n",
    "\n",
    "def plot(grid):\n",
    "    for l in grid:\n",
    "        print(\" \".join(str(x) for x in l))\n",
    "    print()\n",
    "\n",
    "\n",
    "def create_grid(n, m, val=0):\n",
    "    return [[val] * m for _ in range(n)]\n",
    "\n",
    "\n",
    "def is_valid_position(position, grid):\n",
    "    return (0 <= position.r < len(grid)) and (0 <= position.c < len(grid[0]))\n",
    "\n",
    "\n",
    "def count_energy(energy_states):\n",
    "    return sum(energy_states[r][c] for r in range(len(energy_states)) for c in range(len(energy_states[0])))\n",
    "\n",
    "\n",
    "def energize(grid, start):\n",
    "    energy_states = create_grid(len(grid), len(grid[0]))\n",
    "    memo = set()\n",
    "    beams = set([start])\n",
    "\n",
    "    while len(beams) > 0:\n",
    "        beams_to_add = set()\n",
    "        beams_to_remove = set()\n",
    "\n",
    "        for beam in beams:\n",
    "            new_position = beam.position + beam.direction.value\n",
    "            new_direction = beam.direction\n",
    "            new_beam = None\n",
    "\n",
    "            # if beam goes outside of the grid, discard it\n",
    "            if not is_valid_position(new_position, grid):\n",
    "                beams_to_remove.add(beam)\n",
    "                continue\n",
    "\n",
    "            energy_states[new_position.r][new_position.c] = 1\n",
    "            next_tile = grid[new_position.r][new_position.c]\n",
    "\n",
    "            # check where it needs to go next and update direction\n",
    "            match (next_tile, beam.direction):\n",
    "                case (\"-\", Direction.UP | Direction.DOWN):\n",
    "                    new_direction = Direction.RIGHT\n",
    "                    new_beam = Beam(new_position, Direction.LEFT)\n",
    "                case (\"|\", Direction.LEFT | Direction.RIGHT):\n",
    "                    new_direction = Direction.UP\n",
    "                    new_beam = Beam(new_position, Direction.DOWN)\n",
    "                case (\"/\", Direction.RIGHT):\n",
    "                    new_direction = Direction.UP\n",
    "                case (\"/\", Direction.LEFT):\n",
    "                    new_direction = Direction.DOWN\n",
    "                case (\"/\", Direction.UP):\n",
    "                    new_direction = Direction.RIGHT\n",
    "                case (\"/\", Direction.DOWN):\n",
    "                    new_direction = Direction.LEFT\n",
    "                case (\"\\\\\", Direction.RIGHT):\n",
    "                    new_direction = Direction.DOWN\n",
    "                case (\"\\\\\", Direction.LEFT):\n",
    "                    new_direction = Direction.UP\n",
    "                case (\"\\\\\", Direction.UP):\n",
    "                    new_direction = Direction.LEFT\n",
    "                case (\"\\\\\", Direction.DOWN):\n",
    "                    new_direction = Direction.RIGHT\n",
    "\n",
    "            # update position and direction\n",
    "            beam.position = new_position\n",
    "            beam.direction = new_direction\n",
    "\n",
    "            # check if its in the memo\n",
    "            if beam.key in memo:\n",
    "                beams_to_remove.add(beam)\n",
    "            else:\n",
    "                memo.add(beam.key)\n",
    "\n",
    "            if new_beam and new_beam.key not in memo:\n",
    "                memo.add(new_beam.key)\n",
    "                beams_to_add.add(new_beam)\n",
    "\n",
    "        beams |= beams_to_add\n",
    "        beams -= beams_to_remove\n",
    "\n",
    "    return energy_states"
   ]
  },
  {
   "cell_type": "code",
   "execution_count": 1186,
   "metadata": {},
   "outputs": [
    {
     "data": {
      "text/plain": [
       "7979"
      ]
     },
     "execution_count": 1186,
     "metadata": {},
     "output_type": "execute_result"
    }
   ],
   "source": [
    "energy_states = energize(grid, Beam(Point(0, -1), Direction.RIGHT))\n",
    "count_energy(energy_states)"
   ]
  },
  {
   "cell_type": "markdown",
   "metadata": {},
   "source": [
    "## part 2"
   ]
  },
  {
   "cell_type": "code",
   "execution_count": 1187,
   "metadata": {},
   "outputs": [
    {
     "data": {
      "text/plain": [
       "8437"
      ]
     },
     "execution_count": 1187,
     "metadata": {},
     "output_type": "execute_result"
    }
   ],
   "source": [
    "max_energy = 0\n",
    "\n",
    "for r in range(len(grid)):\n",
    "    max_energy = max(\n",
    "        max_energy,\n",
    "        count_energy(energize(grid, Beam(Point(r, -1), Direction.RIGHT))),\n",
    "        count_energy(energize(grid, Beam(Point(r, len(grid[0])), Direction.LEFT))),\n",
    "    )\n",
    "\n",
    "for c in range(len(grid[0])):\n",
    "    max_energy = max(\n",
    "        max_energy,\n",
    "        count_energy(energize(grid, Beam(Point(-1, c), Direction.DOWN))),\n",
    "        count_energy(energize(grid, Beam(Point(len(grid), c), Direction.UP))),\n",
    "    )\n",
    "\n",
    "max_energy"
   ]
  },
  {
   "cell_type": "markdown",
   "metadata": {},
   "source": [
    "# Day 17"
   ]
  },
  {
   "cell_type": "markdown",
   "metadata": {},
   "source": []
  }
 ],
 "metadata": {
  "kernelspec": {
   "display_name": "advent-of-code",
   "language": "python",
   "name": "python3"
  },
  "language_info": {
   "codemirror_mode": {
    "name": "ipython",
    "version": 3
   },
   "file_extension": ".py",
   "mimetype": "text/x-python",
   "name": "python",
   "nbconvert_exporter": "python",
   "pygments_lexer": "ipython3",
   "version": "3.11.6"
  }
 },
 "nbformat": 4,
 "nbformat_minor": 2
}
