{
 "cells": [
  {
   "cell_type": "markdown",
   "metadata": {},
   "source": [
    "# Day 1"
   ]
  },
  {
   "cell_type": "markdown",
   "metadata": {},
   "source": [
    "## part 1"
   ]
  },
  {
   "cell_type": "code",
   "execution_count": 4,
   "metadata": {},
   "outputs": [],
   "source": [
    "import re"
   ]
  },
  {
   "cell_type": "code",
   "execution_count": 5,
   "metadata": {},
   "outputs": [
    {
     "name": "stdout",
     "output_type": "stream",
     "text": [
      "CPU times: user 1.99 ms, sys: 1.83 ms, total: 3.83 ms\n",
      "Wall time: 3.08 ms\n"
     ]
    },
    {
     "data": {
      "text/plain": [
       "54927"
      ]
     },
     "execution_count": 5,
     "metadata": {},
     "output_type": "execute_result"
    }
   ],
   "source": [
    "pattern = re.compile(r\"\\d\")\n",
    "calibration_sum = 0\n",
    "\n",
    "with open(\"inputs/01.txt\") as f:\n",
    "    for line in f:\n",
    "        nums = pattern.findall(line)\n",
    "        calibration_sum += int(f\"{nums[0]}{nums[-1]}\")\n",
    "\n",
    "calibration_sum"
   ]
  },
  {
   "cell_type": "markdown",
   "metadata": {},
   "source": [
    "## part 2"
   ]
  },
  {
   "cell_type": "code",
   "execution_count": 6,
   "metadata": {},
   "outputs": [
    {
     "name": "stdout",
     "output_type": "stream",
     "text": [
      "CPU times: user 3.29 ms, sys: 1.09 ms, total: 4.39 ms\n",
      "Wall time: 3.46 ms\n"
     ]
    },
    {
     "data": {
      "text/plain": [
       "54581"
      ]
     },
     "execution_count": 6,
     "metadata": {},
     "output_type": "execute_result"
    }
   ],
   "source": [
    "spelled_numbers = {\n",
    "    \"one\": \"1\",\n",
    "    \"two\": \"2\",\n",
    "    \"three\": \"3\",\n",
    "    \"four\": \"4\",\n",
    "    \"five\": \"5\",\n",
    "    \"six\": \"6\",\n",
    "    \"seven\": \"7\",\n",
    "    \"eight\": \"8\",\n",
    "    \"nine\": \"9\",\n",
    "}\n",
    "\n",
    "# handle overlapping matches like \"eighthree\"\n",
    "pattern = re.compile(f\"(?=(\\d|{'|'.join(spelled_numbers.keys())}))\")\n",
    "calibration_sum = 0\n",
    "\n",
    "with open(\"inputs/01.txt\") as f:\n",
    "    for line in f:\n",
    "        nums = [spelled_numbers.get(x, x) for x in pattern.findall(line)]\n",
    "        calibration_sum += int(f\"{nums[0]}{nums[-1]}\")\n",
    "\n",
    "calibration_sum"
   ]
  },
  {
   "cell_type": "markdown",
   "metadata": {},
   "source": [
    "# Day 2"
   ]
  },
  {
   "cell_type": "markdown",
   "metadata": {},
   "source": [
    "## part 1"
   ]
  },
  {
   "cell_type": "code",
   "execution_count": null,
   "metadata": {},
   "outputs": [],
   "source": [
    "import re\n",
    "\n",
    "\n",
    "max_cubes = {\n",
    "    \"red\": 12,\n",
    "    \"green\": 13,\n",
    "    \"blue\": 14\n",
    "}\n",
    "\n",
    "pattern = re.compile(r\"(\\d+) (red|green|blue)\")\n",
    "valid_ids_sum = 0\n",
    "\n",
    "with open(\"inputs/02.txt\") as f:\n",
    "    for line in f:\n",
    "        id, trials = line.split(\":\")\n",
    "        id = int(id.split()[-1])\n",
    "        \n",
    "        trials = pattern.findall(trials)\n",
    "        trials = [(color, int(num)) for num, color in trials]\n",
    "        valid = [max_cubes[color] >= num for (color, num) in trials]\n",
    "        \n",
    "        if all(valid): valid_ids_sum += id\n",
    "    \n",
    "valid_ids_sum"
   ]
  },
  {
   "cell_type": "markdown",
   "metadata": {},
   "source": [
    "## part 2"
   ]
  },
  {
   "cell_type": "code",
   "execution_count": 9,
   "metadata": {},
   "outputs": [
    {
     "data": {
      "text/plain": [
       "67335"
      ]
     },
     "execution_count": 9,
     "metadata": {},
     "output_type": "execute_result"
    }
   ],
   "source": [
    "import re\n",
    "import math\n",
    "\n",
    "\n",
    "pattern = re.compile(r\"(\\d+) (red|green|blue)\")\n",
    "power_set_sum = 0\n",
    "\n",
    "with open(\"inputs/02.txt\") as f:\n",
    "    for line in f:\n",
    "        trials = line.split(\":\")[-1]\n",
    "        trials = pattern.findall(trials)\n",
    "        trials = [(color, int(num)) for num, color in trials]\n",
    "\n",
    "        max_color = {\"red\": 0, \"green\": 0, \"blue\": 0}\n",
    "        \n",
    "        for color, num in trials:\n",
    "            max_color[color] = max(max_color[color], num)\n",
    "\n",
    "        power_set_sum += math.prod(max_color.values())\n",
    "\n",
    "power_set_sum"
   ]
  },
  {
   "cell_type": "markdown",
   "metadata": {},
   "source": [
    "# Day 3"
   ]
  },
  {
   "cell_type": "markdown",
   "metadata": {},
   "source": [
    "## part 1"
   ]
  },
  {
   "cell_type": "code",
   "execution_count": 62,
   "metadata": {},
   "outputs": [
    {
     "data": {
      "text/plain": [
       "525911"
      ]
     },
     "execution_count": 62,
     "metadata": {},
     "output_type": "execute_result"
    }
   ],
   "source": [
    "import string\n",
    "import itertools\n",
    "\n",
    "\n",
    "\n",
    "def padding_row(line_len):\n",
    "    return \"\".join([\".\"] * line_len + [\"\\n\"])\n",
    "\n",
    "\n",
    "def pad_row(row):\n",
    "    return [\".\", *row.strip(), \".\"]\n",
    "\n",
    "\n",
    "def pad_iterator(iterator):\n",
    "    line_len = len(iterator.readline().strip())\n",
    "    iterator.seek(0)\n",
    "\n",
    "    return itertools.chain([padding_row(line_len)], iterator)\n",
    "\n",
    "\n",
    "def part_number(top, middle, bottom, window_start, window_end, symbols):\n",
    "    num = int(\"\".join(middle[window_start:window_end]))\n",
    "    \n",
    "    top = set(top[window_start - 1 : window_end + 1])\n",
    "    middle = set(middle[window_start - 1 : window_end + 1])\n",
    "    bottom = set(bottom[window_start - 1 : window_end + 1])\n",
    "\n",
    "    if len((top | middle | bottom) & symbols) > 0:\n",
    "        return num\n",
    "    else:\n",
    "        return 0\n",
    "    \n",
    "\n",
    "symbols = set(string.punctuation) - {\".\"}\n",
    "is_last_row = False\n",
    "parts_sum = 0\n",
    "\n",
    "with open(\"inputs/03.txt\") as f:\n",
    "    f = pad_iterator(f)\n",
    "    \n",
    "    top = next(f)\n",
    "    middle = next(f)\n",
    "    bottom = next(f)\n",
    "    \n",
    "    top, middle = pad_row(top), pad_row(middle)\n",
    "    \n",
    "    while bottom is not None:\n",
    "        bottom = pad_row(bottom)\n",
    "        window_start = window_end = 1\n",
    "        found_number = False\n",
    "\n",
    "        while window_end < len(middle):\n",
    "            match found_number, middle[window_end].isnumeric():\n",
    "                case True, False:\n",
    "                    parts_sum += part_number(top, middle, bottom, window_start, window_end, symbols)\n",
    "                    found_number = False\n",
    "                case False, True:\n",
    "                    found_number = True\n",
    "                    window_start = window_end\n",
    "\n",
    "            window_end += 1\n",
    "\n",
    "        top = middle\n",
    "        middle = bottom\n",
    "        bottom = next(f, None)\n",
    "        \n",
    "        if bottom is None and not is_last_row:\n",
    "            is_last_row = True\n",
    "            bottom = padding_row(len(middle))\n",
    "\n",
    "parts_sum"
   ]
  },
  {
   "cell_type": "markdown",
   "metadata": {},
   "source": [
    "## part 2"
   ]
  },
  {
   "cell_type": "code",
   "execution_count": 99,
   "metadata": {},
   "outputs": [
    {
     "data": {
      "text/plain": [
       "75805607"
      ]
     },
     "execution_count": 99,
     "metadata": {},
     "output_type": "execute_result"
    }
   ],
   "source": [
    "import math\n",
    "import itertools\n",
    "\n",
    "\n",
    "def padding_row(line_len):\n",
    "    return \"\".join([\".\"] * line_len + [\"\\n\"])\n",
    "\n",
    "\n",
    "def pad_row(row):\n",
    "    return [\".\", *row.strip(), \".\"]\n",
    "\n",
    "\n",
    "def pad_iterator(iterator):\n",
    "    line_len = len(iterator.readline().strip())\n",
    "    iterator.seek(0)\n",
    "\n",
    "    return itertools.chain([padding_row(line_len)], iterator)\n",
    "\n",
    "def get_number(row, position):\n",
    "    left = right = position\n",
    "    while row[left - 1].isnumeric():\n",
    "        left -= 1\n",
    "    while row[right + 1].isnumeric():\n",
    "        right += 1\n",
    "    return int(\"\".join(row[left:right + 1]))\n",
    "\n",
    "\n",
    "def check_top_or_bottom(row, position):\n",
    "    nums = []\n",
    "    if row[position].isnumeric():\n",
    "        nums.append(get_number(row, position))\n",
    "    else:\n",
    "        if row[position - 1].isnumeric():\n",
    "            nums.append(get_number(row, position - 1))\n",
    "        if row[position + 1].isnumeric():\n",
    "            nums.append(get_number(row, position  + 1))\n",
    "    \n",
    "    return nums\n",
    "\n",
    "\n",
    "def check_left_or_right(row, position):\n",
    "    nums = []\n",
    "    if row[position].isnumeric():\n",
    "        nums.append(get_number(row, position))\n",
    "    \n",
    "    return nums\n",
    "\n",
    "\n",
    "is_last_row = False\n",
    "gear_product = 0\n",
    "\n",
    "with open(\"inputs/03.txt\") as f:\n",
    "    f = pad_iterator(f)\n",
    "    \n",
    "    top = next(f)\n",
    "    middle = next(f)\n",
    "    bottom = next(f)\n",
    "    \n",
    "    top, middle = pad_row(top), pad_row(middle)\n",
    "        \n",
    "    while bottom is not None:\n",
    "        bottom = pad_row(bottom)\n",
    "        \n",
    "        for position, char in enumerate(middle):\n",
    "            if char == \"*\":\n",
    "                nums = [\n",
    "                    *check_top_or_bottom(top, position),\n",
    "                    *check_top_or_bottom(bottom, position),\n",
    "                    *check_left_or_right(middle, position - 1),\n",
    "                    *check_left_or_right(middle, position + 1)\n",
    "                ]\n",
    "                \n",
    "                if len(nums) == 2:\n",
    "                    gear_product += math.prod(nums)\n",
    "        \n",
    "        top = middle\n",
    "        middle = bottom\n",
    "        bottom = next(f, None)\n",
    "        \n",
    "        if bottom is None and not is_last_row:\n",
    "            is_last_row = True\n",
    "            bottom = padding_row(len(middle))\n",
    "\n",
    "gear_product"
   ]
  },
  {
   "cell_type": "markdown",
   "metadata": {},
   "source": [
    "# Day 4"
   ]
  },
  {
   "cell_type": "code",
   "execution_count": 110,
   "metadata": {},
   "outputs": [],
   "source": [
    "def get_deck(filepath):\n",
    "    deck = []\n",
    "    with open(filepath) as f:\n",
    "        for line in f:\n",
    "            winning, played = get_plays(line)\n",
    "            deck.append((winning, played))\n",
    "            \n",
    "    return deck\n",
    "\n",
    "\n",
    "def get_plays(line):\n",
    "    nums = line.split(\":\")[-1]\n",
    "    winning, played = nums.split(\"|\")\n",
    "    winning, played = set(map(int, winning.split())), set(map(int, played.split()))\n",
    "    \n",
    "    return winning, played\n",
    "\n",
    "\n",
    "def get_num_matches(winning, played):\n",
    "    return len(winning & played)"
   ]
  },
  {
   "cell_type": "markdown",
   "metadata": {},
   "source": [
    "## part 1"
   ]
  },
  {
   "cell_type": "code",
   "execution_count": 111,
   "metadata": {},
   "outputs": [
    {
     "data": {
      "text/plain": [
       "23847"
      ]
     },
     "execution_count": 111,
     "metadata": {},
     "output_type": "execute_result"
    }
   ],
   "source": [
    "points = 0\n",
    "deck = get_deck(\"inputs/04.txt\")\n",
    "\n",
    "for winning, played in deck:\n",
    "    num_matches = get_num_matches(winning, played)\n",
    "    if num_matches > 0: points += 2**(num_matches - 1)\n",
    "\n",
    "points"
   ]
  },
  {
   "cell_type": "markdown",
   "metadata": {},
   "source": [
    "## part 2"
   ]
  },
  {
   "cell_type": "code",
   "execution_count": 112,
   "metadata": {},
   "outputs": [
    {
     "data": {
      "text/plain": [
       "8570000"
      ]
     },
     "execution_count": 112,
     "metadata": {},
     "output_type": "execute_result"
    }
   ],
   "source": [
    "deck = get_deck(\"inputs/04.txt\")\n",
    "weights = [1]*len(deck)\n",
    "i = 0\n",
    "\n",
    "for i, (winning, played) in enumerate(deck):\n",
    "    num_matches = get_num_matches(winning, played)\n",
    "    \n",
    "    if num_matches > 0:\n",
    "        for j in range(1, num_matches + 1):\n",
    "            weights[i + j] += weights[i]\n",
    "\n",
    "sum(weights)"
   ]
  }
 ],
 "metadata": {
  "kernelspec": {
   "display_name": "advent-of-code",
   "language": "python",
   "name": "python3"
  },
  "language_info": {
   "codemirror_mode": {
    "name": "ipython",
    "version": 3
   },
   "file_extension": ".py",
   "mimetype": "text/x-python",
   "name": "python",
   "nbconvert_exporter": "python",
   "pygments_lexer": "ipython3",
   "version": "3.11.6"
  }
 },
 "nbformat": 4,
 "nbformat_minor": 2
}
